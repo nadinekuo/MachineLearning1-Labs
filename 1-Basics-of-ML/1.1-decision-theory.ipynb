{
 "cells": [
  {
   "cell_type": "markdown",
   "id": "e0dbcab2220adf41",
   "metadata": {
    "collapsed": false
   },
   "source": [
    "## 1.1 Decision Theory\n"
   ]
  },
  {
   "cell_type": "code",
   "execution_count": 1,
   "metadata": {},
   "outputs": [],
   "source": [
    "import numpy as np\n",
    "import prtools as pr\n",
    "import matplotlib.pyplot as plt"
   ]
  },
  {
   "cell_type": "markdown",
   "metadata": {},
   "source": [
    "### 1.6: Hardcoded dataset"
   ]
  },
  {
   "cell_type": "code",
   "execution_count": 9,
   "id": "initial_id",
   "metadata": {
    "collapsed": true
   },
   "outputs": [
    {
     "name": "stdout",
     "output_type": "stream",
     "text": [
      "Mean over cols (all objects):  [2.89 2.18 1.18]\n",
      "Mean over rows...:  [0.4        2.2        1.4        2.03333333 2.03333333 1.6\n",
      " 2.2        2.06666667 3.16666667 3.73333333]\n",
      "Std:  [1.09676798 1.44069428 0.86579443]\n"
     ]
    }
   ],
   "source": [
    "# Below a fake dataset containin 10 objects and 3 features i.a. a 10 x 3 matrix\n",
    "x = np.array([[0.7, 0.3, 0.2], [2.1, 4.5, 0], [1.9, 1.8, 0.5], [3.1, 2.5, 0.5], [2.5, 2.8, 0.8], [2.8, 0.5, 1.5], [3.2, 1.9, 1.5], [3.9, 0.5, 1.8], [4.5, 2.5, 2.5], [4.2, 4.5, 2.5]])\n",
    "\n",
    "# Compute mean and std\n",
    "mean = np.mean(x, axis=0)  # axis=0 means that we compute the mean for each column\n",
    "mean_2 = np.mean(x, axis=1)  # axis=1 means that we compute the mean for each row\n",
    "std = np.std(x, axis=0)\n",
    "\n",
    "print('Mean over cols (all objects): ', mean)\n",
    "print('Mean over rows...: ', mean_2)\n",
    "print('Std: ', std)"
   ]
  },
  {
   "cell_type": "markdown",
   "metadata": {},
   "source": [
    "### 1.7 Scatterplots"
   ]
  },
  {
   "cell_type": "code",
   "execution_count": 10,
   "metadata": {},
   "outputs": [
    {
     "data": {
      "text/plain": [
       "<matplotlib.collections.PathCollection at 0x107a51a60>"
      ]
     },
     "execution_count": 10,
     "metadata": {},
     "output_type": "execute_result"
    },
    {
     "data": {
      "image/png": "[encoded data removed]",
      "text/plain": [
       "<Figure size 640x480 with 1 Axes>"
      ]
     },
     "metadata": {},
     "output_type": "display_data"
    }
   ],
   "source": [
    "# Below we turn the 3D dataset into a 2D dataset by removing the third feature\n",
    "plt.scatter(x[:, 0], x[:, 1])"
   ]
  },
  {
   "cell_type": "markdown",
   "metadata": {},
   "source": [
    "### 1.8 Adding labels to dataset"
   ]
  },
  {
   "cell_type": "code",
   "execution_count": 20,
   "metadata": {},
   "outputs": [
    {
     "name": "stdout",
     "output_type": "stream",
     "text": [
      "Labels: \n",
      " [[1]\n",
      " [1]\n",
      " [1]\n",
      " [1]\n",
      " [1]\n",
      " [2]\n",
      " [2]\n",
      " [2]\n",
      " [2]\n",
      " [2]]\n",
      "Dataset without labels: \n",
      " [[0.7 0.3 0.2]\n",
      " [2.1 4.5 0. ]\n",
      " [1.9 1.8 0.5]\n",
      " [3.1 2.5 0.5]\n",
      " [2.5 2.8 0.8]\n",
      " [2.8 0.5 1.5]\n",
      " [3.2 1.9 1.5]\n",
      " [3.9 0.5 1.8]\n",
      " [4.5 2.5 2.5]\n",
      " [4.2 4.5 2.5]]\n",
      "Dataset with labels: \n",
      " 10 by 3 prdataset with 2 classes: [5 5]\n"
     ]
    }
   ],
   "source": [
    "# We assume numeric labels\n",
    "lab = np.array([1, 1, 1, 1, 1, 2, 2, 2, 2, 2]).reshape(10, 1)  # transpose to get a column vector\n",
    "print('Labels: \\n', lab)\n",
    "\n",
    "a = pr.prdataset(x, lab)\n",
    "print('Dataset without labels: \\n', a.data)\n",
    "print('Dataset with labels: \\n', a)"
   ]
  },
  {
   "cell_type": "markdown",
   "metadata": {},
   "source": [
    "### 1.9 Boomerangs dataset"
   ]
  },
  {
   "cell_type": "code",
   "execution_count": null,
   "metadata": {},
   "outputs": [],
   "source": []
  }
 ],
 "metadata": {
  "kernelspec": {
   "display_name": "Python 3",
   "language": "python",
   "name": "python3"
  },
  "language_info": {
   "codemirror_mode": {
    "name": "ipython",
    "version": 3
   },
   "file_extension": ".py",
   "mimetype": "text/x-python",
   "name": "python",
   "nbconvert_exporter": "python",
   "pygments_lexer": "ipython3",
   "version": "3.9.18"
  }
 },
 "nbformat": 4,
 "nbformat_minor": 5
}
